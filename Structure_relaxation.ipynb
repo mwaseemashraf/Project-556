{
 "cells": [
  {
   "cell_type": "code",
   "execution_count": 96,
   "id": "5c05f0a8-1c4a-41f7-8b3a-cfd3c7a1842f",
   "metadata": {},
   "outputs": [],
   "source": [
    "import numpy as np\n",
    "import shutil\n",
    "from pymatgen.io.vasp.inputs import Kpoints\n",
    "from pymatgen.io.vasp.sets import MPHSERelaxSet, MPRelaxSet, MPStaticSet\n",
    "from pymatgen.ext.matproj import MPRester\n",
    "\n",
    "with open(\"api_key.txt\",'r') as filename:\n",
    "    API_KEY = filename.readlines()[0]\n",
    "with MPRester(API_KEY) as mpr:\n",
    "            structure = mpr.get_structure_by_material_id(\"mp-2574\")\n",
    "vis=MPRelaxSet(structure, force_gamma=True)"
   ]
  },
  {
   "cell_type": "code",
   "execution_count": 97,
   "id": "945f3aac-e328-455e-bc79-35072d7f07b5",
   "metadata": {},
   "outputs": [],
   "source": [
    "f=open(\"INCAR\",'w')\n",
    "f.write(str(vis.incar))\n",
    "f.close()\n",
    "f=open(\"KPOINTS\",'w')\n",
    "f.write(str(vis.kpoints))\n",
    "f.close()\n",
    "f=open(\"POSCAR\",'w')\n",
    "f.write(str(vis.poscar))\n",
    "f.close()"
   ]
  },
  {
   "cell_type": "code",
   "execution_count": 98,
   "id": "d3a0348e-680b-47fa-bdbf-0184d19cf5bd",
   "metadata": {},
   "outputs": [],
   "source": [
    "F1=vis.potcar_symbols[0]+\"/\"+\"POTCAR\"\n",
    "F2=vis.potcar_symbols[1]+\"/\"+\"POTCAR\"\n",
    "Des=\"POTCAR\"\n",
    "with open(Des,\"wb\")as wfd:\n",
    "    for files in (F1,F2):\n",
    "        with open(files,\"rb\")as fd:\n",
    "            shutil.copyfileobj(fd,wfd)"
   ]
  },
  {
   "cell_type": "code",
   "execution_count": null,
   "id": "6759c54d-f9f4-4080-8a17-27154ad55fe0",
   "metadata": {},
   "outputs": [],
   "source": [
    "F1=vis.potcar_symbols[1]+\"/\"+\"POTCAR\"\n",
    "F2=vis.potcar_symbols[1]+\"/\"+\"POTCAR\"\n",
    "F3=vis.potcar_symbols[1]+\"/\"+\"POTCAR\"\n",
    "F4=vis.potcar_symbols[1]+\"/\"+\"POTCAR\"\n",
    "#lis=[F1,F2,F3,F4]\n",
    "Des=\"POTCAR\"\n",
    "lis=[]\n",
    "for i in range(len(vis.potcar_symbols)):\n",
    "    #F=vis.potcar_symbols[i]\n",
    "    lis=lis+[vis.potcar_symbols[i]+\"/\"+\"POTCAR\"]\n",
    "    with open(Des,\"wb\")as wfd:\n",
    "        for files in lis:\n",
    "            with open(files,\"rb\")as fd:\n",
    "                shutil.copyfileobj(fd,wfd)"
   ]
  },
  {
   "cell_type": "code",
   "execution_count": 115,
   "id": "29f49733-f7a1-460a-8cfa-5adee91fa226",
   "metadata": {},
   "outputs": [
    {
     "data": {
      "text/plain": [
       "2"
      ]
     },
     "execution_count": 115,
     "metadata": {},
     "output_type": "execute_result"
    }
   ],
   "source": [
    "len(vis.potcar_symbols)"
   ]
  },
  {
   "cell_type": "code",
   "execution_count": 116,
   "id": "62a51622-62e6-4989-9218-24eba63d297f",
   "metadata": {},
   "outputs": [
    {
     "data": {
      "text/plain": [
       "range(0, 2)"
      ]
     },
     "execution_count": 116,
     "metadata": {},
     "output_type": "execute_result"
    }
   ],
   "source": [
    "range(2)"
   ]
  },
  {
   "cell_type": "code",
   "execution_count": null,
   "id": "4c002341-3a1a-4327-ab8b-9032dc7a8a5b",
   "metadata": {},
   "outputs": [],
   "source": []
  }
 ],
 "metadata": {
  "kernelspec": {
   "display_name": "Python 3 (ipykernel)",
   "language": "python",
   "name": "python3"
  },
  "language_info": {
   "codemirror_mode": {
    "name": "ipython",
    "version": 3
   },
   "file_extension": ".py",
   "mimetype": "text/x-python",
   "name": "python",
   "nbconvert_exporter": "python",
   "pygments_lexer": "ipython3",
   "version": "3.9.7"
  }
 },
 "nbformat": 4,
 "nbformat_minor": 5
}
