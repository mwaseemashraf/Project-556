{
 "cells": [
  {
   "cell_type": "code",
   "execution_count": 96,
   "id": "5c05f0a8-1c4a-41f7-8b3a-cfd3c7a1842f",
   "metadata": {},
   "outputs": [],
   "source": [
    "import numpy as np\n",
    "import shutil\n",
    "from pymatgen.io.vasp.inputs import Kpoints\n",
    "from pymatgen.io.vasp.sets import MPHSERelaxSet, MPRelaxSet, MPStaticSet\n",
    "from pymatgen.ext.matproj import MPRester\n",
    "\n",
    "with open(\"api_key.txt\",'r') as filename:\n",
    "    API_KEY = filename.readlines()[0]\n",
    "with MPRester(API_KEY) as mpr:\n",
    "            structure = mpr.get_structure_by_material_id(\"mp-2574\")\n",
    "vis=MPRelaxSet(structure, force_gamma=True)"
   ]
  },
  {
   "cell_type": "code",
   "execution_count": 97,
   "id": "945f3aac-e328-455e-bc79-35072d7f07b5",
   "metadata": {},
   "outputs": [],
   "source": [
    "f=open(\"INCAR\",'w')\n",
    "f.write(str(vis.incar))\n",
    "f.close()\n",
    "f=open(\"KPOINTS\",'w')\n",
    "f.write(str(vis.kpoints))\n",
    "f.close()\n",
    "f=open(\"POSCAR\",'w')\n",
    "f.write(str(vis.poscar))\n",
    "f.close()"
   ]
  },
  {
   "cell_type": "code",
   "execution_count": 121,
   "id": "d3a0348e-680b-47fa-bdbf-0184d19cf5bd",
   "metadata": {},
   "outputs": [],
   "source": [
    "VASP_POTCAR_PATH=\"\"\n",
    "F1=vis.potcar_symbols[0]+\"/\"+\"POTCAR\"\n",
    "F2=vis.potcar_symbols[1]+\"/\"+\"POTCAR\"\n",
    "Des=\"POTCAR\"\n",
    "with open(Des,\"wb\")as wfd:\n",
    "    for files in (F1,F2):\n",
    "        with open(files,\"rb\")as fd:\n",
    "            shutil.copyfileobj(fd,wfd)"
   ]
  },
  {
   "cell_type": "code",
   "execution_count": 122,
   "id": "6759c54d-f9f4-4080-8a17-27154ad55fe0",
   "metadata": {},
   "outputs": [],
   "source": [
    "VASP_POTCAR_PATH=\"\"\n",
    "Des=\"POTCAR\"\n",
    "lis=[]\n",
    "for i in range(len(vis.potcar_symbols)):\n",
    "    #F=vis.potcar_symbols[i]\n",
    "    lis=lis+[VASP_POTCAR_PATH+vis.potcar_symbols[i]+\"/\"+\"POTCAR\"]\n",
    "    with open(Des,\"wb\")as wfd:\n",
    "        for files in lis:\n",
    "            with open(files,\"rb\")as fd:\n",
    "                shutil.copyfileobj(fd,wfd)"
   ]
  },
  {
   "cell_type": "code",
   "execution_count": 123,
   "id": "637702f5-50fb-41b7-a667-ed4fc113b7cf",
   "metadata": {},
   "outputs": [],
   "source": [
    "import numpy as np\n",
    "from pymatgen.io.vasp.inputs import Kpoints\n",
    "from pymatgen.io.vasp.sets import MPHSERelaxSet, MPRelaxSet, MPStaticSet\n",
    "from pymatgen.ext.matproj import MPRester\n",
    "\n",
    "with open(\"api_key.txt\",'r') as filename:\n",
    "    API_KEY = filename.readlines()[0]\n",
    "with MPRester(API_KEY) as mpr:\n",
    "            structure = mpr.get_structure_by_material_id(\"mp-2574\")\n",
    "vis=MPRelaxSet(structure, force_gamma=True)\n",
    "# Adding iput files from Pymatgen\n",
    "f=open(\"INCAR\",'w')\n",
    "f.write(str(vis.incar))\n",
    "f.close()\n",
    "f=open(\"KPOINTS\",'w')\n",
    "f.write(str(vis.kpoints))\n",
    "f.close()\n",
    "f=open(\"POSCAR\",'w')\n",
    "f.write(str(vis.poscar))\n",
    "f.close()\n",
    "\n",
    "# Compiling POTCAR file from the VASP library\n",
    "\n",
    "VASP_POTCAR_PATH=\"\"\n",
    "Des=\"POTCAR\"\n",
    "lis=[]\n",
    "for i in range(len(vis.potcar_symbols)):\n",
    "    #F=vis.potcar_symbols[i]\n",
    "    lis=lis+[VASP_POTCAR_PATH+vis.potcar_symbols[i]+\"/\"+\"POTCAR\"]\n",
    "    with open(Des,\"wb\")as wfd:\n",
    "        for files in lis:\n",
    "            with open(files,\"rb\")as fd:\n",
    "                shutil.copyfileobj(fd,wfd)"
   ]
  },
  {
   "cell_type": "code",
   "execution_count": 125,
   "id": "defc9c78-8983-48e4-bb5e-6ef266c1a331",
   "metadata": {},
   "outputs": [],
   "source": [
    "from toolbox import POTCAR_compiler\n",
    "POTCAR_compiler(vis.potcar_symbols)"
   ]
  },
  {
   "cell_type": "code",
   "execution_count": null,
   "id": "915770ea-1032-40c6-9f6a-ebd6dbdf357b",
   "metadata": {},
   "outputs": [],
   "source": []
  }
 ],
 "metadata": {
  "kernelspec": {
   "display_name": "Python 3 (ipykernel)",
   "language": "python",
   "name": "python3"
  },
  "language_info": {
   "codemirror_mode": {
    "name": "ipython",
    "version": 3
   },
   "file_extension": ".py",
   "mimetype": "text/x-python",
   "name": "python",
   "nbconvert_exporter": "python",
   "pygments_lexer": "ipython3",
   "version": "3.9.7"
  }
 },
 "nbformat": 4,
 "nbformat_minor": 5
}
