{
 "cells": [
  {
   "cell_type": "code",
   "execution_count": 57,
   "id": "5c05f0a8-1c4a-41f7-8b3a-cfd3c7a1842f",
   "metadata": {},
   "outputs": [],
   "source": [
    "import numpy as np\n",
    "from pymatgen.io.vasp.inputs import Kpoints\n",
    "from pymatgen.io.vasp.sets import MPHSERelaxSet, MPRelaxSet, MPStaticSet\n",
    "from pymatgen.ext.matproj import MPRester\n",
    "\n",
    "with open(\"api_key.txt\",'r') as filename:\n",
    "    API_KEY = filename.readlines()[0]\n",
    "with MPRester(API_KEY) as mpr:\n",
    "            structure = mpr.get_structure_by_material_id(\"mp-2574\")\n",
    "vis=MPRelaxSet(structure, force_gamma=True)"
   ]
  },
  {
   "cell_type": "code",
   "execution_count": 64,
   "id": "945f3aac-e328-455e-bc79-35072d7f07b5",
   "metadata": {},
   "outputs": [],
   "source": [
    "f=open(\"INCAR\",'w')\n",
    "f.write(str(vis.incar))\n",
    "f.close()\n",
    "f=open(\"KPOINTS\",'w')\n",
    "f.write(str(vis.kpoints))\n",
    "f.close()\n",
    "f=open(\"POSCAR\",'w')\n",
    "f.write(str(vis.poscar))\n",
    "f.close()"
   ]
  },
  {
   "cell_type": "code",
   "execution_count": null,
   "id": "e65e3d50-29ed-4298-81b5-b9f897258645",
   "metadata": {},
   "outputs": [],
   "source": []
  }
 ],
 "metadata": {
  "kernelspec": {
   "display_name": "Python 3 (ipykernel)",
   "language": "python",
   "name": "python3"
  },
  "language_info": {
   "codemirror_mode": {
    "name": "ipython",
    "version": 3
   },
   "file_extension": ".py",
   "mimetype": "text/x-python",
   "name": "python",
   "nbconvert_exporter": "python",
   "pygments_lexer": "ipython3",
   "version": "3.9.7"
  }
 },
 "nbformat": 4,
 "nbformat_minor": 5
}
